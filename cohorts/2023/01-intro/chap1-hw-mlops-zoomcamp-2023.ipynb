{
 "cells": [
  {
   "cell_type": "markdown",
   "metadata": {
    "id": "Dg2oMrUJUp6h"
   },
   "source": [
    "# MLOps-zoomcamp-2023-chap1-intro-hw\n",
    "\n",
    "Use the \"Run\" button to execute the code."
   ]
  },
  {
   "cell_type": "markdown",
   "metadata": {
    "id": "YUHkO--RYrlQ"
   },
   "source": [
    "## Download the Dataset"
   ]
  },
  {
   "cell_type": "code",
   "execution_count": 1,
   "metadata": {
    "executionInfo": {
     "elapsed": 8,
     "status": "ok",
     "timestamp": 1684505242746,
     "user": {
      "displayName": "Prabin Kumar Nayak",
      "userId": "08357207907825346919"
     },
     "user_tz": -330
    },
    "id": "hs9CievRUp6n"
   },
   "outputs": [],
   "source": [
    "dataset_link_1 = \"https://d37ci6vzurychx.cloudfront.net/trip-data/yellow_tripdata_2022-01.parquet\"\n",
    "dataset_link_2 = \"https://d37ci6vzurychx.cloudfront.net/trip-data/yellow_tripdata_2022-02.parquet\""
   ]
  },
  {
   "cell_type": "code",
   "execution_count": 2,
   "metadata": {
    "colab": {
     "base_uri": "https://localhost:8080/"
    },
    "executionInfo": {
     "elapsed": 2288,
     "status": "ok",
     "timestamp": 1684505260223,
     "user": {
      "displayName": "Prabin Kumar Nayak",
      "userId": "08357207907825346919"
     },
     "user_tz": -330
    },
    "id": "i2oVKXtgVcMB",
    "outputId": "f55c19e9-739e-4f82-b65e-cef3c052f7e4"
   },
   "outputs": [
    {
     "name": "stdout",
     "output_type": "stream",
     "text": [
      "/content\n",
      "--2023-05-19 14:07:36--  https://d37ci6vzurychx.cloudfront.net/trip-data/yellow_tripdata_2022-01.parquet\n",
      "Resolving d37ci6vzurychx.cloudfront.net (d37ci6vzurychx.cloudfront.net)... 65.8.245.178, 65.8.245.171, 65.8.245.50, ...\n",
      "Connecting to d37ci6vzurychx.cloudfront.net (d37ci6vzurychx.cloudfront.net)|65.8.245.178|:443... connected.\n",
      "HTTP request sent, awaiting response... 200 OK\n",
      "Length: 38139949 (36M) [application/x-www-form-urlencoded]\n",
      "Saving to: ‘yellow_tripdata_2022-01.parquet’\n",
      "\n",
      "yellow_tripdata_202 100%[===================>]  36.37M  59.2MB/s    in 0.6s    \n",
      "\n",
      "2023-05-19 14:07:37 (59.2 MB/s) - ‘yellow_tripdata_2022-01.parquet’ saved [38139949/38139949]\n",
      "\n",
      "--2023-05-19 14:07:37--  https://d37ci6vzurychx.cloudfront.net/trip-data/yellow_tripdata_2022-02.parquet\n",
      "Resolving d37ci6vzurychx.cloudfront.net (d37ci6vzurychx.cloudfront.net)... 65.8.245.178, 65.8.245.171, 65.8.245.50, ...\n",
      "Connecting to d37ci6vzurychx.cloudfront.net (d37ci6vzurychx.cloudfront.net)|65.8.245.178|:443... connected.\n",
      "HTTP request sent, awaiting response... 200 OK\n",
      "Length: 45616512 (44M) [application/x-www-form-urlencoded]\n",
      "Saving to: ‘yellow_tripdata_2022-02.parquet’\n",
      "\n",
      "yellow_tripdata_202 100%[===================>]  43.50M  69.9MB/s    in 0.6s    \n",
      "\n",
      "2023-05-19 14:07:37 (69.9 MB/s) - ‘yellow_tripdata_2022-02.parquet’ saved [45616512/45616512]\n",
      "\n"
     ]
    }
   ],
   "source": [
    "!pwd\n",
    "!wget $dataset_link_1\n",
    "!wget $dataset_link_2"
   ]
  },
  {
   "cell_type": "code",
   "execution_count": 94,
   "metadata": {
    "executionInfo": {
     "elapsed": 8,
     "status": "ok",
     "timestamp": 1684511090408,
     "user": {
      "displayName": "Prabin Kumar Nayak",
      "userId": "08357207907825346919"
     },
     "user_tz": -330
    },
    "id": "id4g8cdTXgYR"
   },
   "outputs": [],
   "source": [
    "import pandas as pd\n",
    "\n",
    "import seaborn as sns\n",
    "import matplotlib.pyplot as plt\n",
    "\n",
    "\n",
    "from sklearn.feature_extraction import DictVectorizer\n",
    "from sklearn.linear_model import LinearRegression\n",
    "from sklearn.linear_model import Lasso\n",
    "from sklearn.linear_model import Ridge"
   ]
  },
  {
   "cell_type": "code",
   "execution_count": 95,
   "metadata": {
    "executionInfo": {
     "elapsed": 1446,
     "status": "ok",
     "timestamp": 1684511091848,
     "user": {
      "displayName": "Prabin Kumar Nayak",
      "userId": "08357207907825346919"
     },
     "user_tz": -330
    },
    "id": "hHPT3GXFVluT"
   },
   "outputs": [],
   "source": [
    "# Specify the file path of the parquet file\n",
    "parquet_file_train = 'yellow_tripdata_2022-01.parquet'\n",
    "parquet_file_val = 'yellow_tripdata_2022-02.parquet'\n",
    "\n",
    "\n",
    "# Read the parquet file using pandas\n",
    "df_train = pd.read_parquet(parquet_file_train)"
   ]
  },
  {
   "cell_type": "markdown",
   "metadata": {
    "id": "FP1WQaB6Ym3U"
   },
   "source": [
    "## Data Analysis and Exploration"
   ]
  },
  {
   "cell_type": "code",
   "execution_count": 96,
   "metadata": {
    "colab": {
     "base_uri": "https://localhost:8080/"
    },
    "executionInfo": {
     "elapsed": 14,
     "status": "ok",
     "timestamp": 1684511091849,
     "user": {
      "displayName": "Prabin Kumar Nayak",
      "userId": "08357207907825346919"
     },
     "user_tz": -330
    },
    "id": "Xnw9vkeBYgx7",
    "outputId": "0eecec71-c026-4f1b-bf47-4d0162051eb5"
   },
   "outputs": [
    {
     "data": {
      "text/plain": [
       "(2463931, 19)"
      ]
     },
     "execution_count": 96,
     "metadata": {},
     "output_type": "execute_result"
    }
   ],
   "source": [
    "df_train.shape"
   ]
  },
  {
   "cell_type": "markdown",
   "metadata": {
    "id": "3mYW2sZnY9FO"
   },
   "source": [
    "### Read the data for January. How many columns are there? `19`"
   ]
  },
  {
   "cell_type": "markdown",
   "metadata": {
    "id": "DZFGgV0repmd"
   },
   "source": [
    "### What's the standard deviation of the trips duration in January? "
   ]
  },
  {
   "cell_type": "code",
   "execution_count": 97,
   "metadata": {
    "colab": {
     "base_uri": "https://localhost:8080/"
    },
    "executionInfo": {
     "elapsed": 14,
     "status": "ok",
     "timestamp": 1684511091850,
     "user": {
      "displayName": "Prabin Kumar Nayak",
      "userId": "08357207907825346919"
     },
     "user_tz": -330
    },
    "id": "eDCO7utWZCOP",
    "outputId": "484c7b38-83cd-4f34-8dcc-49b45aef4f51"
   },
   "outputs": [
    {
     "name": "stdout",
     "output_type": "stream",
     "text": [
      "<class 'pandas.core.frame.DataFrame'>\n",
      "RangeIndex: 2463931 entries, 0 to 2463930\n",
      "Data columns (total 19 columns):\n",
      " #   Column                 Dtype         \n",
      "---  ------                 -----         \n",
      " 0   VendorID               int64         \n",
      " 1   tpep_pickup_datetime   datetime64[ns]\n",
      " 2   tpep_dropoff_datetime  datetime64[ns]\n",
      " 3   passenger_count        float64       \n",
      " 4   trip_distance          float64       \n",
      " 5   RatecodeID             float64       \n",
      " 6   store_and_fwd_flag     object        \n",
      " 7   PULocationID           int64         \n",
      " 8   DOLocationID           int64         \n",
      " 9   payment_type           int64         \n",
      " 10  fare_amount            float64       \n",
      " 11  extra                  float64       \n",
      " 12  mta_tax                float64       \n",
      " 13  tip_amount             float64       \n",
      " 14  tolls_amount           float64       \n",
      " 15  improvement_surcharge  float64       \n",
      " 16  total_amount           float64       \n",
      " 17  congestion_surcharge   float64       \n",
      " 18  airport_fee            float64       \n",
      "dtypes: datetime64[ns](2), float64(12), int64(4), object(1)\n",
      "memory usage: 357.2+ MB\n"
     ]
    }
   ],
   "source": [
    "df_train.info()"
   ]
  },
  {
   "cell_type": "code",
   "execution_count": 98,
   "metadata": {
    "executionInfo": {
     "elapsed": 9227,
     "status": "ok",
     "timestamp": 1684511101071,
     "user": {
      "displayName": "Prabin Kumar Nayak",
      "userId": "08357207907825346919"
     },
     "user_tz": -330
    },
    "id": "K4hnLt2ve8je"
   },
   "outputs": [],
   "source": [
    "df_train['duration'] = df_train.tpep_dropoff_datetime - df_train.tpep_pickup_datetime\n",
    "df_train.duration = df_train.duration.apply(lambda td: td.total_seconds() / 60)"
   ]
  },
  {
   "cell_type": "code",
   "execution_count": 99,
   "metadata": {
    "colab": {
     "base_uri": "https://localhost:8080/",
     "height": 661
    },
    "executionInfo": {
     "elapsed": 11694,
     "status": "ok",
     "timestamp": 1684511112760,
     "user": {
      "displayName": "Prabin Kumar Nayak",
      "userId": "08357207907825346919"
     },
     "user_tz": -330
    },
    "id": "T4-7RS1RfTCo",
    "outputId": "d585388b-a4af-45db-db9c-099885ebe2cf"
   },
   "outputs": [
    {
     "name": "stderr",
     "output_type": "stream",
     "text": [
      "<ipython-input-99-16a96132d705>:1: UserWarning: \n",
      "\n",
      "`distplot` is a deprecated function and will be removed in seaborn v0.14.0.\n",
      "\n",
      "Please adapt your code to use either `displot` (a figure-level function with\n",
      "similar flexibility) or `histplot` (an axes-level function for histograms).\n",
      "\n",
      "For a guide to updating your code to use the new functions, please see\n",
      "https://gist.github.com/mwaskom/de44147ed2974457ad6372750bbe5751\n",
      "\n",
      "  sns.distplot(df_train['duration'], label='duration')\n"
     ]
    },
    {
     "data": {
      "text/plain": [
       "<matplotlib.legend.Legend at 0x7f68d041b9d0>"
      ]
     },
     "execution_count": 99,
     "metadata": {},
     "output_type": "execute_result"
    },
    {
     "data": {
      "image/png": "[encoded data removed]",
      "text/plain": [
       "<Figure size 640x480 with 1 Axes>"
      ]
     },
     "metadata": {},
     "output_type": "display_data"
    }
   ],
   "source": [
    "sns.distplot(df_train['duration'], label='duration')\n",
    "plt.legend()"
   ]
  },
  {
   "cell_type": "code",
   "execution_count": 100,
   "metadata": {
    "colab": {
     "base_uri": "https://localhost:8080/"
    },
    "executionInfo": {
     "elapsed": 38,
     "status": "ok",
     "timestamp": 1684511112763,
     "user": {
      "displayName": "Prabin Kumar Nayak",
      "userId": "08357207907825346919"
     },
     "user_tz": -330
    },
    "id": "jtuM8FqyfjEM",
    "outputId": "5bec77eb-c8e3-424f-d290-e6a7222afc11"
   },
   "outputs": [
    {
     "name": "stdout",
     "output_type": "stream",
     "text": [
      "Standard Deviation: 46.44530513776802\n"
     ]
    }
   ],
   "source": [
    "# Calculate the standard deviation of the column\n",
    "std_dev = df_train['duration'].std()\n",
    "\n",
    "# Print the result\n",
    "print('Standard Deviation:', std_dev)"
   ]
  },
  {
   "cell_type": "markdown",
   "metadata": {
    "id": "XnHe-rHPgJW6"
   },
   "source": [
    "What's the standard deviation of the trips duration in January? `46.445` ~ `46.45`"
   ]
  },
  {
   "cell_type": "markdown",
   "metadata": {
    "id": "qe6d6eAdgUh4"
   },
   "source": [
    "### What fraction of the records left after you dropped the outliers?"
   ]
  },
  {
   "cell_type": "code",
   "execution_count": 101,
   "metadata": {
    "colab": {
     "base_uri": "https://localhost:8080/",
     "height": 927
    },
    "executionInfo": {
     "elapsed": 5830,
     "status": "ok",
     "timestamp": 1684511118569,
     "user": {
      "displayName": "Prabin Kumar Nayak",
      "userId": "08357207907825346919"
     },
     "user_tz": -330
    },
    "id": "FF5GmwMugCC7",
    "outputId": "e0faa3f9-e2d0-4abf-9426-ba74e45ea36f"
   },
   "outputs": [
    {
     "data": {
      "image/png": "[encoded data removed]",
      "text/plain": [
       "<Figure size 640x480 with 1 Axes>"
      ]
     },
     "metadata": {},
     "output_type": "display_data"
    },
    {
     "data": {
      "image/png": "[encoded data removed]",
      "text/plain": [
       "<Figure size 640x480 with 1 Axes>"
      ]
     },
     "metadata": {},
     "output_type": "display_data"
    }
   ],
   "source": [
    "# Boxplot\n",
    "sns.boxplot(x=df_train['duration'])\n",
    "plt.title('Boxplot of Duration')\n",
    "plt.xlabel('Duration')\n",
    "plt.show()\n",
    "\n",
    "# Violin plot\n",
    "sns.violinplot(x=df_train['duration'])\n",
    "plt.title('Violin Plot of Duration')\n",
    "plt.xlabel('Duration')\n",
    "plt.show()"
   ]
  },
  {
   "cell_type": "code",
   "execution_count": 102,
   "metadata": {
    "executionInfo": {
     "elapsed": 847,
     "status": "ok",
     "timestamp": 1684511119401,
     "user": {
      "displayName": "Prabin Kumar Nayak",
      "userId": "08357207907825346919"
     },
     "user_tz": -330
    },
    "id": "1zcWNak9g4W4"
   },
   "outputs": [],
   "source": [
    "df_train = df_train[(df_train.duration >= 1) & (df_train.duration <= 60)]"
   ]
  },
  {
   "cell_type": "code",
   "execution_count": 103,
   "metadata": {
    "colab": {
     "base_uri": "https://localhost:8080/"
    },
    "executionInfo": {
     "elapsed": 19,
     "status": "ok",
     "timestamp": 1684511119404,
     "user": {
      "displayName": "Prabin Kumar Nayak",
      "userId": "08357207907825346919"
     },
     "user_tz": -330
    },
    "id": "9KH3SpCInmIn",
    "outputId": "f1e8e0f5-a096-4a90-afcd-fdfe6ab31d59"
   },
   "outputs": [
    {
     "data": {
      "text/plain": [
       "(2421440, 20)"
      ]
     },
     "execution_count": 103,
     "metadata": {},
     "output_type": "execute_result"
    }
   ],
   "source": [
    "df_train.shape"
   ]
  },
  {
   "cell_type": "code",
   "execution_count": 104,
   "metadata": {
    "colab": {
     "base_uri": "https://localhost:8080/",
     "height": 927
    },
    "executionInfo": {
     "elapsed": 7835,
     "status": "ok",
     "timestamp": 1684511127224,
     "user": {
      "displayName": "Prabin Kumar Nayak",
      "userId": "08357207907825346919"
     },
     "user_tz": -330
    },
    "id": "f482JogBiCsq",
    "outputId": "4016e805-7295-433f-e467-614c4b37c5ad"
   },
   "outputs": [
    {
     "data": {
      "image/png": "[encoded data removed]",
      "text/plain": [
       "<Figure size 640x480 with 1 Axes>"
      ]
     },
     "metadata": {},
     "output_type": "display_data"
    },
    {
     "data": {
      "image/png": "[encoded data removed]",
      "text/plain": [
       "<Figure size 640x480 with 1 Axes>"
      ]
     },
     "metadata": {},
     "output_type": "display_data"
    }
   ],
   "source": [
    "# Boxplot\n",
    "sns.boxplot(x=df_train['duration'])\n",
    "plt.title('Boxplot of Duration')\n",
    "plt.xlabel('Duration')\n",
    "plt.show()\n",
    "\n",
    "# Violin plot\n",
    "sns.violinplot(x=df_train['duration'])\n",
    "plt.title('Violin Plot of Duration')\n",
    "plt.xlabel('Duration')\n",
    "plt.show()"
   ]
  },
  {
   "cell_type": "markdown",
   "metadata": {
    "id": "s9hae4_oiNrP"
   },
   "source": [
    "Still the values could be trimmed by shriking the upper limit from `60` to `30`. But as the questions states to trim between 1 and 60 so we have to stick to the same."
   ]
  },
  {
   "cell_type": "code",
   "execution_count": 105,
   "metadata": {
    "colab": {
     "base_uri": "https://localhost:8080/"
    },
    "executionInfo": {
     "elapsed": 53,
     "status": "ok",
     "timestamp": 1684511127226,
     "user": {
      "displayName": "Prabin Kumar Nayak",
      "userId": "08357207907825346919"
     },
     "user_tz": -330
    },
    "id": "z8PtGEOQiwqo",
    "outputId": "c256286f-fe95-4596-a364-4f6bbda478e9"
   },
   "outputs": [
    {
     "name": "stdout",
     "output_type": "stream",
     "text": [
      "The fraction of records left after dropping the otuliers is 98.28 %\n"
     ]
    }
   ],
   "source": [
    "print(f\"The fraction of records left after dropping the otuliers is {round(df_train.shape[0]*100/2463931,2)} %\")"
   ]
  },
  {
   "cell_type": "markdown",
   "metadata": {
    "id": "WejTR0mDjWQ9"
   },
   "source": [
    "### One-hot encoding"
   ]
  },
  {
   "cell_type": "code",
   "execution_count": 106,
   "metadata": {
    "colab": {
     "base_uri": "https://localhost:8080/"
    },
    "executionInfo": {
     "elapsed": 45,
     "status": "ok",
     "timestamp": 1684511127229,
     "user": {
      "displayName": "Prabin Kumar Nayak",
      "userId": "08357207907825346919"
     },
     "user_tz": -330
    },
    "id": "x-3YXY8ajoqK",
    "outputId": "6665cfbe-5ff9-4cda-d8d9-fb6e394b62ba"
   },
   "outputs": [
    {
     "data": {
      "text/plain": [
       "Index(['VendorID', 'tpep_pickup_datetime', 'tpep_dropoff_datetime',\n",
       "       'passenger_count', 'trip_distance', 'RatecodeID', 'store_and_fwd_flag',\n",
       "       'PULocationID', 'DOLocationID', 'payment_type', 'fare_amount', 'extra',\n",
       "       'mta_tax', 'tip_amount', 'tolls_amount', 'improvement_surcharge',\n",
       "       'total_amount', 'congestion_surcharge', 'airport_fee', 'duration'],\n",
       "      dtype='object')"
      ]
     },
     "execution_count": 106,
     "metadata": {},
     "output_type": "execute_result"
    }
   ],
   "source": [
    "df_train.columns"
   ]
  },
  {
   "cell_type": "code",
   "execution_count": 107,
   "metadata": {
    "executionInfo": {
     "elapsed": 30,
     "status": "ok",
     "timestamp": 1684511127232,
     "user": {
      "displayName": "Prabin Kumar Nayak",
      "userId": "08357207907825346919"
     },
     "user_tz": -330
    },
    "id": "1WT7qoWljlxj"
   },
   "outputs": [],
   "source": [
    "# selected_columns = ['PULocationID','DOLocationID']"
   ]
  },
  {
   "cell_type": "code",
   "execution_count": 108,
   "metadata": {
    "executionInfo": {
     "elapsed": 29,
     "status": "ok",
     "timestamp": 1684511127233,
     "user": {
      "displayName": "Prabin Kumar Nayak",
      "userId": "08357207907825346919"
     },
     "user_tz": -330
    },
    "id": "byZveUU5j4XU"
   },
   "outputs": [],
   "source": [
    "categorical = ['PULocationID', 'DOLocationID']\n",
    "numerical = []"
   ]
  },
  {
   "cell_type": "code",
   "execution_count": 109,
   "metadata": {
    "executionInfo": {
     "elapsed": 29,
     "status": "ok",
     "timestamp": 1684511127234,
     "user": {
      "displayName": "Prabin Kumar Nayak",
      "userId": "08357207907825346919"
     },
     "user_tz": -330
    },
    "id": "z6gNqkvpjWjk"
   },
   "outputs": [],
   "source": [
    "def read_dataframe(filename):\n",
    "    if filename.endswith('.parquet'):\n",
    "        df = pd.read_parquet(filename)\n",
    "\n",
    "    df['duration'] = df.tpep_dropoff_datetime - df.tpep_pickup_datetime\n",
    "    df.duration = df.duration.apply(lambda td: td.total_seconds() / 60)\n",
    "\n",
    "    df = df[(df.duration >= 1) & (df.duration <= 60)]\n",
    "\n",
    "    categorical = ['PULocationID', 'DOLocationID']\n",
    "    df[categorical] = df[categorical].astype(str)\n",
    "    \n",
    "    return df"
   ]
  },
  {
   "cell_type": "code",
   "execution_count": 110,
   "metadata": {
    "colab": {
     "base_uri": "https://localhost:8080/"
    },
    "executionInfo": {
     "elapsed": 13832,
     "status": "ok",
     "timestamp": 1684511141038,
     "user": {
      "displayName": "Prabin Kumar Nayak",
      "userId": "08357207907825346919"
     },
     "user_tz": -330
    },
    "id": "imJ3vneZkCi-",
    "outputId": "784f6dd6-6e16-4866-8b9c-12feafcb70b6"
   },
   "outputs": [
    {
     "data": {
      "text/plain": [
       "(2918187, 20)"
      ]
     },
     "execution_count": 110,
     "metadata": {},
     "output_type": "execute_result"
    }
   ],
   "source": [
    "df_val = read_dataframe(parquet_file_val)\n",
    "df_val.shape"
   ]
  },
  {
   "cell_type": "code",
   "execution_count": 111,
   "metadata": {
    "colab": {
     "base_uri": "https://localhost:8080/"
    },
    "executionInfo": {
     "elapsed": 10,
     "status": "ok",
     "timestamp": 1684511141041,
     "user": {
      "displayName": "Prabin Kumar Nayak",
      "userId": "08357207907825346919"
     },
     "user_tz": -330
    },
    "id": "OgxeniXokb77",
    "outputId": "d46e0b81-04c0-4112-b1b3-1dccc1510502"
   },
   "outputs": [
    {
     "data": {
      "text/plain": [
       "(2421440, 2918187)"
      ]
     },
     "execution_count": 111,
     "metadata": {},
     "output_type": "execute_result"
    }
   ],
   "source": [
    "len(df_train), len(df_val)"
   ]
  },
  {
   "cell_type": "code",
   "execution_count": 112,
   "metadata": {
    "executionInfo": {
     "elapsed": 3986,
     "status": "ok",
     "timestamp": 1684511145019,
     "user": {
      "displayName": "Prabin Kumar Nayak",
      "userId": "08357207907825346919"
     },
     "user_tz": -330
    },
    "id": "bA55cIA0krH5"
   },
   "outputs": [],
   "source": [
    "train_dicts = df_train[categorical + numerical].to_dict(orient='records')"
   ]
  },
  {
   "cell_type": "code",
   "execution_count": 113,
   "metadata": {
    "executionInfo": {
     "elapsed": 7708,
     "status": "ok",
     "timestamp": 1684511153198,
     "user": {
      "displayName": "Prabin Kumar Nayak",
      "userId": "08357207907825346919"
     },
     "user_tz": -330
    },
    "id": "fpPQU2G6krEU"
   },
   "outputs": [],
   "source": [
    "dv = DictVectorizer()\n",
    "X_train = dv.fit_transform(train_dicts)"
   ]
  },
  {
   "cell_type": "code",
   "execution_count": 114,
   "metadata": {
    "colab": {
     "base_uri": "https://localhost:8080/"
    },
    "executionInfo": {
     "elapsed": 35,
     "status": "ok",
     "timestamp": 1684511153200,
     "user": {
      "displayName": "Prabin Kumar Nayak",
      "userId": "08357207907825346919"
     },
     "user_tz": -330
    },
    "id": "yDPX5gz4lTOF",
    "outputId": "6fca06a7-0c7a-46eb-921b-3d77256b6989"
   },
   "outputs": [
    {
     "data": {
      "text/plain": [
       "((2421440, 2), scipy.sparse._csr.csr_matrix)"
      ]
     },
     "execution_count": 114,
     "metadata": {},
     "output_type": "execute_result"
    }
   ],
   "source": [
    "X_train.shape,type(X_train)"
   ]
  },
  {
   "cell_type": "code",
   "execution_count": 115,
   "metadata": {
    "colab": {
     "base_uri": "https://localhost:8080/"
    },
    "executionInfo": {
     "elapsed": 30,
     "status": "ok",
     "timestamp": 1684511153201,
     "user": {
      "displayName": "Prabin Kumar Nayak",
      "userId": "08357207907825346919"
     },
     "user_tz": -330
    },
    "id": "DtYOgh5rlfuj",
    "outputId": "7b90057d-a80d-4ab8-9239-b7839c62632b"
   },
   "outputs": [
    {
     "name": "stdout",
     "output_type": "stream",
     "text": [
      "  (0, 0)\t236.0\n",
      "  (0, 1)\t142.0\n"
     ]
    }
   ],
   "source": [
    "print(X_train[0])"
   ]
  },
  {
   "cell_type": "code",
   "execution_count": 116,
   "metadata": {
    "colab": {
     "base_uri": "https://localhost:8080/"
    },
    "executionInfo": {
     "elapsed": 23,
     "status": "ok",
     "timestamp": 1684511153202,
     "user": {
      "displayName": "Prabin Kumar Nayak",
      "userId": "08357207907825346919"
     },
     "user_tz": -330
    },
    "id": "HV4eNu2xmCgK",
    "outputId": "883b72e0-e3b7-4012-fc53-a17525ddcc57"
   },
   "outputs": [
    {
     "name": "stdout",
     "output_type": "stream",
     "text": [
      "the dimensionality of this matrix (number of columns): 2\n"
     ]
    }
   ],
   "source": [
    "feature_names = dv.get_feature_names_out()\n",
    "dimensionality = len(feature_names)\n",
    "print(f'the dimensionality of this matrix (number of columns): {dimensionality}')"
   ]
  },
  {
   "cell_type": "markdown",
   "metadata": {
    "id": "C7gfP6KCm_fP"
   },
   "source": [
    "## Training a model"
   ]
  },
  {
   "cell_type": "code",
   "execution_count": 117,
   "metadata": {
    "executionInfo": {
     "elapsed": 917,
     "status": "ok",
     "timestamp": 1684511164243,
     "user": {
      "displayName": "Prabin Kumar Nayak",
      "userId": "08357207907825346919"
     },
     "user_tz": -330
    },
    "id": "3zaInx8GkrB6"
   },
   "outputs": [],
   "source": [
    "target = 'duration'\n",
    "y_train = df_train[target].values"
   ]
  },
  {
   "cell_type": "code",
   "execution_count": 118,
   "metadata": {
    "colab": {
     "base_uri": "https://localhost:8080/",
     "height": 74
    },
    "executionInfo": {
     "elapsed": 18,
     "status": "ok",
     "timestamp": 1684511167324,
     "user": {
      "displayName": "Prabin Kumar Nayak",
      "userId": "08357207907825346919"
     },
     "user_tz": -330
    },
    "id": "wf5Wu-q6misO",
    "outputId": "845b64b6-cf16-47f9-a308-81f43a4c3ec9"
   },
   "outputs": [
    {
     "data": {
      "text/html": [
       "<style>#sk-container-id-2 {color: black;background-color: white;}#sk-container-id-2 pre{padding: 0;}#sk-container-id-2 div.sk-toggleable {background-color: white;}#sk-container-id-2 label.sk-toggleable__label {cursor: pointer;display: block;width: 100%;margin-bottom: 0;padding: 0.3em;box-sizing: border-box;text-align: center;}#sk-container-id-2 label.sk-toggleable__label-arrow:before {content: \"▸\";float: left;margin-right: 0.25em;color: #696969;}#sk-container-id-2 label.sk-toggleable__label-arrow:hover:before {color: black;}#sk-container-id-2 div.sk-estimator:hover label.sk-toggleable__label-arrow:before {color: black;}#sk-container-id-2 div.sk-toggleable__content {max-height: 0;max-width: 0;overflow: hidden;text-align: left;background-color: #f0f8ff;}#sk-container-id-2 div.sk-toggleable__content pre {margin: 0.2em;color: black;border-radius: 0.25em;background-color: #f0f8ff;}#sk-container-id-2 input.sk-toggleable__control:checked~div.sk-toggleable__content {max-height: 200px;max-width: 100%;overflow: auto;}#sk-container-id-2 input.sk-toggleable__control:checked~label.sk-toggleable__label-arrow:before {content: \"▾\";}#sk-container-id-2 div.sk-estimator input.sk-toggleable__control:checked~label.sk-toggleable__label {background-color: #d4ebff;}#sk-container-id-2 div.sk-label input.sk-toggleable__control:checked~label.sk-toggleable__label {background-color: #d4ebff;}#sk-container-id-2 input.sk-hidden--visually {border: 0;clip: rect(1px 1px 1px 1px);clip: rect(1px, 1px, 1px, 1px);height: 1px;margin: -1px;overflow: hidden;padding: 0;position: absolute;width: 1px;}#sk-container-id-2 div.sk-estimator {font-family: monospace;background-color: #f0f8ff;border: 1px dotted black;border-radius: 0.25em;box-sizing: border-box;margin-bottom: 0.5em;}#sk-container-id-2 div.sk-estimator:hover {background-color: #d4ebff;}#sk-container-id-2 div.sk-parallel-item::after {content: \"\";width: 100%;border-bottom: 1px solid gray;flex-grow: 1;}#sk-container-id-2 div.sk-label:hover label.sk-toggleable__label {background-color: #d4ebff;}#sk-container-id-2 div.sk-serial::before {content: \"\";position: absolute;border-left: 1px solid gray;box-sizing: border-box;top: 0;bottom: 0;left: 50%;z-index: 0;}#sk-container-id-2 div.sk-serial {display: flex;flex-direction: column;align-items: center;background-color: white;padding-right: 0.2em;padding-left: 0.2em;position: relative;}#sk-container-id-2 div.sk-item {position: relative;z-index: 1;}#sk-container-id-2 div.sk-parallel {display: flex;align-items: stretch;justify-content: center;background-color: white;position: relative;}#sk-container-id-2 div.sk-item::before, #sk-container-id-2 div.sk-parallel-item::before {content: \"\";position: absolute;border-left: 1px solid gray;box-sizing: border-box;top: 0;bottom: 0;left: 50%;z-index: -1;}#sk-container-id-2 div.sk-parallel-item {display: flex;flex-direction: column;z-index: 1;position: relative;background-color: white;}#sk-container-id-2 div.sk-parallel-item:first-child::after {align-self: flex-end;width: 50%;}#sk-container-id-2 div.sk-parallel-item:last-child::after {align-self: flex-start;width: 50%;}#sk-container-id-2 div.sk-parallel-item:only-child::after {width: 0;}#sk-container-id-2 div.sk-dashed-wrapped {border: 1px dashed gray;margin: 0 0.4em 0.5em 0.4em;box-sizing: border-box;padding-bottom: 0.4em;background-color: white;}#sk-container-id-2 div.sk-label label {font-family: monospace;font-weight: bold;display: inline-block;line-height: 1.2em;}#sk-container-id-2 div.sk-label-container {text-align: center;}#sk-container-id-2 div.sk-container {/* jupyter's `normalize.less` sets `[hidden] { display: none; }` but bootstrap.min.css set `[hidden] { display: none !important; }` so we also need the `!important` here to be able to override the default hidden behavior on the sphinx rendered scikit-learn.org. See: https://github.com/scikit-learn/scikit-learn/issues/21755 */display: inline-block !important;position: relative;}#sk-container-id-2 div.sk-text-repr-fallback {display: none;}</style><div id=\"sk-container-id-2\" class=\"sk-top-container\"><div class=\"sk-text-repr-fallback\"><pre>LinearRegression()</pre><b>In a Jupyter environment, please rerun this cell to show the HTML representation or trust the notebook. <br />On GitHub, the HTML representation is unable to render, please try loading this page with nbviewer.org.</b></div><div class=\"sk-container\" hidden><div class=\"sk-item\"><div class=\"sk-estimator sk-toggleable\"><input class=\"sk-toggleable__control sk-hidden--visually\" id=\"sk-estimator-id-2\" type=\"checkbox\" checked><label for=\"sk-estimator-id-2\" class=\"sk-toggleable__label sk-toggleable__label-arrow\">LinearRegression</label><div class=\"sk-toggleable__content\"><pre>LinearRegression()</pre></div></div></div></div></div>"
      ],
      "text/plain": [
       "LinearRegression()"
      ]
     },
     "execution_count": 118,
     "metadata": {},
     "output_type": "execute_result"
    }
   ],
   "source": [
    "lr = LinearRegression()\n",
    "lr.fit(X_train, y_train)"
   ]
  },
  {
   "cell_type": "code",
   "execution_count": 119,
   "metadata": {
    "executionInfo": {
     "elapsed": 4,
     "status": "ok",
     "timestamp": 1684511169661,
     "user": {
      "displayName": "Prabin Kumar Nayak",
      "userId": "08357207907825346919"
     },
     "user_tz": -330
    },
    "id": "pAsG1xMOoK5A"
   },
   "outputs": [],
   "source": [
    "from sklearn.metrics import mean_squared_error"
   ]
  },
  {
   "cell_type": "code",
   "execution_count": 120,
   "metadata": {
    "executionInfo": {
     "elapsed": 6,
     "status": "ok",
     "timestamp": 1684511172531,
     "user": {
      "displayName": "Prabin Kumar Nayak",
      "userId": "08357207907825346919"
     },
     "user_tz": -330
    },
    "id": "W4c2qWrdkq_i"
   },
   "outputs": [],
   "source": [
    "y_pred = lr.predict(X_train)"
   ]
  },
  {
   "cell_type": "code",
   "execution_count": 121,
   "metadata": {
    "colab": {
     "base_uri": "https://localhost:8080/"
    },
    "executionInfo": {
     "elapsed": 805,
     "status": "ok",
     "timestamp": 1684511176945,
     "user": {
      "displayName": "Prabin Kumar Nayak",
      "userId": "08357207907825346919"
     },
     "user_tz": -330
    },
    "id": "oW1cTpXCpPsE",
    "outputId": "e074f951-6f1d-4699-a10c-a0d0100b4dea"
   },
   "outputs": [
    {
     "name": "stdout",
     "output_type": "stream",
     "text": [
      "the RMSE of the model on the training data 8.920327827581444\n"
     ]
    }
   ],
   "source": [
    "print(f'the RMSE of the model on the training data {mean_squared_error(y_train, y_pred, squared=False)}')"
   ]
  },
  {
   "cell_type": "code",
   "execution_count": 122,
   "metadata": {
    "executionInfo": {
     "elapsed": 7,
     "status": "ok",
     "timestamp": 1684511179391,
     "user": {
      "displayName": "Prabin Kumar Nayak",
      "userId": "08357207907825346919"
     },
     "user_tz": -330
    },
    "id": "Zc9wEigMkq9O"
   },
   "outputs": [],
   "source": [
    "# Plotting the distributions\n",
    "def plot_distribution(actual, predicted):\n",
    "  sns.distplot(actual, hist=True, kde=False, bins=10, label='Actual Values')\n",
    "  sns.distplot(predicted, hist=True, kde=False, bins=10, label='Predicted Values')\n",
    "  plt.xlabel('Values')\n",
    "  plt.ylabel('Frequency')\n",
    "  plt.legend()\n",
    "  plt.title('Distribution of Predicted and Actual Values')\n",
    "  plt.show()"
   ]
  },
  {
   "cell_type": "code",
   "execution_count": 123,
   "metadata": {
    "colab": {
     "base_uri": "https://localhost:8080/",
     "height": 861
    },
    "executionInfo": {
     "elapsed": 601,
     "status": "ok",
     "timestamp": 1684511182067,
     "user": {
      "displayName": "Prabin Kumar Nayak",
      "userId": "08357207907825346919"
     },
     "user_tz": -330
    },
    "id": "TQKc8TwRqGzD",
    "outputId": "efbd6948-7a97-4f64-e850-90f5536b73c6"
   },
   "outputs": [
    {
     "name": "stderr",
     "output_type": "stream",
     "text": [
      "<ipython-input-122-fc33e34a5dbe>:3: UserWarning: \n",
      "\n",
      "`distplot` is a deprecated function and will be removed in seaborn v0.14.0.\n",
      "\n",
      "Please adapt your code to use either `displot` (a figure-level function with\n",
      "similar flexibility) or `histplot` (an axes-level function for histograms).\n",
      "\n",
      "For a guide to updating your code to use the new functions, please see\n",
      "https://gist.github.com/mwaskom/de44147ed2974457ad6372750bbe5751\n",
      "\n",
      "  sns.distplot(actual, hist=True, kde=False, bins=10, label='Actual Values')\n",
      "<ipython-input-122-fc33e34a5dbe>:4: UserWarning: \n",
      "\n",
      "`distplot` is a deprecated function and will be removed in seaborn v0.14.0.\n",
      "\n",
      "Please adapt your code to use either `displot` (a figure-level function with\n",
      "similar flexibility) or `histplot` (an axes-level function for histograms).\n",
      "\n",
      "For a guide to updating your code to use the new functions, please see\n",
      "https://gist.github.com/mwaskom/de44147ed2974457ad6372750bbe5751\n",
      "\n",
      "  sns.distplot(predicted, hist=True, kde=False, bins=10, label='Predicted Values')\n"
     ]
    },
    {
     "data": {
      "image/png": "[encoded data removed]",
      "text/plain": [
       "<Figure size 640x480 with 1 Axes>"
      ]
     },
     "metadata": {},
     "output_type": "display_data"
    }
   ],
   "source": [
    "plot_distribution(y_train,y_pred)"
   ]
  },
  {
   "cell_type": "markdown",
   "metadata": {
    "id": "wrFyxgENphWV"
   },
   "source": [
    "## Evaluating the model"
   ]
  },
  {
   "cell_type": "code",
   "execution_count": 124,
   "metadata": {
    "executionInfo": {
     "elapsed": 11108,
     "status": "ok",
     "timestamp": 1684511194360,
     "user": {
      "displayName": "Prabin Kumar Nayak",
      "userId": "08357207907825346919"
     },
     "user_tz": -330
    },
    "id": "JyR-vCfZpt35"
   },
   "outputs": [],
   "source": [
    "val_dicts = df_val[categorical + numerical].to_dict(orient='records')\n",
    "X_val = dv.transform(val_dicts)"
   ]
  },
  {
   "cell_type": "code",
   "execution_count": 125,
   "metadata": {
    "executionInfo": {
     "elapsed": 17,
     "status": "ok",
     "timestamp": 1684511194928,
     "user": {
      "displayName": "Prabin Kumar Nayak",
      "userId": "08357207907825346919"
     },
     "user_tz": -330
    },
    "id": "svvMuBnmpt0R"
   },
   "outputs": [],
   "source": [
    "y_val = df_val[target].values"
   ]
  },
  {
   "cell_type": "code",
   "execution_count": 126,
   "metadata": {
    "executionInfo": {
     "elapsed": 20,
     "status": "ok",
     "timestamp": 1684511194933,
     "user": {
      "displayName": "Prabin Kumar Nayak",
      "userId": "08357207907825346919"
     },
     "user_tz": -330
    },
    "id": "L6gVLn29kq6k"
   },
   "outputs": [],
   "source": [
    "y_pred = lr.predict(X_val)"
   ]
  },
  {
   "cell_type": "code",
   "execution_count": 128,
   "metadata": {
    "colab": {
     "base_uri": "https://localhost:8080/"
    },
    "executionInfo": {
     "elapsed": 918,
     "status": "ok",
     "timestamp": 1684511410303,
     "user": {
      "displayName": "Prabin Kumar Nayak",
      "userId": "08357207907825346919"
     },
     "user_tz": -330
    },
    "id": "k-bHbDX1pgx4",
    "outputId": "f7b5e70e-6431-4bd2-f86b-63c882b66c5e"
   },
   "outputs": [
    {
     "name": "stdout",
     "output_type": "stream",
     "text": [
      "the RMSE of the model on the training data 10.032124095033593\n"
     ]
    }
   ],
   "source": [
    "print(f'the RMSE of the model on the training data {mean_squared_error(y_val, y_pred, squared=False)}')"
   ]
  },
  {
   "cell_type": "code",
   "execution_count": 129,
   "metadata": {
    "colab": {
     "base_uri": "https://localhost:8080/",
     "height": 861
    },
    "executionInfo": {
     "elapsed": 19,
     "status": "ok",
     "timestamp": 1684511411849,
     "user": {
      "displayName": "Prabin Kumar Nayak",
      "userId": "08357207907825346919"
     },
     "user_tz": -330
    },
    "id": "Wp6omIl4pgvz",
    "outputId": "dd17b33c-5426-4351-902c-5816bd9d8e34"
   },
   "outputs": [
    {
     "name": "stderr",
     "output_type": "stream",
     "text": [
      "<ipython-input-122-fc33e34a5dbe>:3: UserWarning: \n",
      "\n",
      "`distplot` is a deprecated function and will be removed in seaborn v0.14.0.\n",
      "\n",
      "Please adapt your code to use either `displot` (a figure-level function with\n",
      "similar flexibility) or `histplot` (an axes-level function for histograms).\n",
      "\n",
      "For a guide to updating your code to use the new functions, please see\n",
      "https://gist.github.com/mwaskom/de44147ed2974457ad6372750bbe5751\n",
      "\n",
      "  sns.distplot(actual, hist=True, kde=False, bins=10, label='Actual Values')\n",
      "<ipython-input-122-fc33e34a5dbe>:4: UserWarning: \n",
      "\n",
      "`distplot` is a deprecated function and will be removed in seaborn v0.14.0.\n",
      "\n",
      "Please adapt your code to use either `displot` (a figure-level function with\n",
      "similar flexibility) or `histplot` (an axes-level function for histograms).\n",
      "\n",
      "For a guide to updating your code to use the new functions, please see\n",
      "https://gist.github.com/mwaskom/de44147ed2974457ad6372750bbe5751\n",
      "\n",
      "  sns.distplot(predicted, hist=True, kde=False, bins=10, label='Predicted Values')\n"
     ]
    },
    {
     "data": {
      "image/png": "[encoded data removed]",
      "text/plain": [
       "<Figure size 640x480 with 1 Axes>"
      ]
     },
     "metadata": {},
     "output_type": "display_data"
    }
   ],
   "source": [
    "plot_distribution(y_val,y_pred)"
   ]
  },
  {
   "cell_type": "code",
   "execution_count": 130,
   "metadata": {
    "colab": {
     "base_uri": "https://localhost:8080/"
    },
    "executionInfo": {
     "elapsed": 10,
     "status": "ok",
     "timestamp": 1684511413011,
     "user": {
      "displayName": "Prabin Kumar Nayak",
      "userId": "08357207907825346919"
     },
     "user_tz": -330
    },
    "id": "SIMGwRZHpgtI",
    "outputId": "11e7e467-6c4e-4b0b-cb92-2050797f431d"
   },
   "outputs": [
    {
     "data": {
      "text/plain": [
       "array([16.56034382, 16.56034382, 16.56034382, ..., 16.56034382,\n",
       "       16.56034382, 16.56034382])"
      ]
     },
     "execution_count": 130,
     "metadata": {},
     "output_type": "execute_result"
    }
   ],
   "source": [
    "y_pred"
   ]
  },
  {
   "cell_type": "code",
   "execution_count": null,
   "metadata": {
    "id": "jzF2kFCMpgqq"
   },
   "outputs": [],
   "source": []
  },
  {
   "cell_type": "code",
   "execution_count": null,
   "metadata": {
    "id": "Rw9drCvbpgn5"
   },
   "outputs": [],
   "source": []
  },
  {
   "cell_type": "code",
   "execution_count": null,
   "metadata": {
    "id": "VCxiN7pypgla"
   },
   "outputs": [],
   "source": []
  },
  {
   "cell_type": "code",
   "execution_count": null,
   "metadata": {
    "id": "HMUubZiLpgi_"
   },
   "outputs": [],
   "source": []
  },
  {
   "cell_type": "code",
   "execution_count": null,
   "metadata": {
    "id": "AKZNF-q3pggZ"
   },
   "outputs": [],
   "source": []
  },
  {
   "cell_type": "code",
   "execution_count": null,
   "metadata": {
    "id": "S3z64sWhkq3w"
   },
   "outputs": [],
   "source": [
    "# df_train['PU_DO'] = df_train['PULocationID'] + '_' + df_train['DOLocationID']\n",
    "# df_val['PU_DO'] = df_val['PULocationID'] + '_' + df_val['DOLocationID']"
   ]
  },
  {
   "cell_type": "markdown",
   "metadata": {
    "id": "fyGTA0j5hNtH"
   },
   "source": [
    "## Similar things for the validation Dataset"
   ]
  },
  {
   "cell_type": "code",
   "execution_count": null,
   "metadata": {
    "id": "Jiv-y6brhSML"
   },
   "outputs": [],
   "source": [
    "# df_val['duration'] = df_val.tpep_dropoff_datetime - df_val.tpep_pickup_datetime\n",
    "# df_val.duration = df_val.duration.apply(lambda td: td.total_seconds() / 60)\n",
    "\n",
    "# # Boxplot\n",
    "# sns.boxplot(x=df_val['duration'])\n",
    "# plt.title('Boxplot of Duration')\n",
    "# plt.xlabel('Duration')\n",
    "# plt.show()\n",
    "\n",
    "# # Violin plot\n",
    "# sns.violinplot(x=df_val['duration'])\n",
    "# plt.title('Violin Plot of Duration')\n",
    "# plt.xlabel('Duration')\n",
    "# plt.show()"
   ]
  },
  {
   "cell_type": "code",
   "execution_count": 90,
   "metadata": {
    "colab": {
     "base_uri": "https://localhost:8080/"
    },
    "executionInfo": {
     "elapsed": 15,
     "status": "ok",
     "timestamp": 1684511028051,
     "user": {
      "displayName": "Prabin Kumar Nayak",
      "userId": "08357207907825346919"
     },
     "user_tz": -330
    },
    "id": "cDNuZUQwrPHr",
    "outputId": "d53190bf-3422-4e11-ca99-483d274922bb"
   },
   "outputs": [
    {
     "name": "stdout",
     "output_type": "stream",
     "text": [
      "Dimensionality: 3\n"
     ]
    }
   ],
   "source": [
    "from sklearn.feature_extraction import DictVectorizer\n",
    "\n",
    "# Create an instance of DictVectorizer\n",
    "vectorizer = DictVectorizer()\n",
    "\n",
    "# Fit the vectorizer to your data\n",
    "data = [{'feature1': 2, 'feature2': 5}, {'feature1': 1, 'feature3': 3}]\n",
    "vectorizer.fit(data)\n",
    "\n",
    "# Get the feature names\n",
    "feature_names = vectorizer.get_feature_names_out()\n",
    "\n",
    "# Determine the dimensionality\n",
    "dimensionality = len(feature_names)\n",
    "\n",
    "# Print the dimensionality\n",
    "print(\"Dimensionality:\", dimensionality)"
   ]
  },
  {
   "cell_type": "code",
   "execution_count": 91,
   "metadata": {
    "colab": {
     "base_uri": "https://localhost:8080/"
    },
    "executionInfo": {
     "elapsed": 10,
     "status": "ok",
     "timestamp": 1684511043923,
     "user": {
      "displayName": "Prabin Kumar Nayak",
      "userId": "08357207907825346919"
     },
     "user_tz": -330
    },
    "id": "IWoKxFEGrPVj",
    "outputId": "27ef86f6-8615-4266-831f-fd87cc2e718e"
   },
   "outputs": [
    {
     "data": {
      "text/plain": [
       "array(['feature1', 'feature2', 'feature3'], dtype=object)"
      ]
     },
     "execution_count": 91,
     "metadata": {},
     "output_type": "execute_result"
    }
   ],
   "source": [
    "feature_names"
   ]
  },
  {
   "cell_type": "code",
   "execution_count": null,
   "metadata": {
    "id": "mmzcP6nprqsN"
   },
   "outputs": [],
   "source": []
  }
 ],
 "metadata": {
  "colab": {
   "provenance": []
  },
  "language_info": {
   "codemirror_mode": {
    "name": "ipython",
    "version": 3
   },
   "file_extension": ".py",
   "mimetype": "text/x-python",
   "name": "python",
   "nbconvert_exporter": "python",
   "pygments_lexer": "ipython3",
   "version": "3.7.6"
  }
 },
 "nbformat": 4,
 "nbformat_minor": 0
}